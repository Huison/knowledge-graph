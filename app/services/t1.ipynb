{
 "cells": [
  {
   "cell_type": "code",
   "execution_count": 2,
   "id": "initial_id",
   "metadata": {
    "collapsed": true,
    "ExecuteTime": {
     "end_time": "2024-08-09T08:34:58.146440Z",
     "start_time": "2024-08-09T08:34:57.888705Z"
    }
   },
   "outputs": [],
   "source": [
    "from app.llm_api.zhipu_api import Zhipu"
   ]
  },
  {
   "cell_type": "code",
   "outputs": [],
   "source": [
    "zhipu = Zhipu()"
   ],
   "metadata": {
    "collapsed": false,
    "ExecuteTime": {
     "end_time": "2024-08-09T08:34:58.992051Z",
     "start_time": "2024-08-09T08:34:58.901097Z"
    }
   },
   "id": "8c10c8250952ed97",
   "execution_count": 3
  },
  {
   "cell_type": "code",
   "outputs": [],
   "source": [
    "response = zhipu.synchronous_chat([\n",
    "    {\n",
    "        \"role\": \"user\",\n",
    "        \"content\": \"1+1=?\"\n",
    "    }\n",
    "])"
   ],
   "metadata": {
    "collapsed": false,
    "ExecuteTime": {
     "end_time": "2024-08-09T03:15:40.020654Z",
     "start_time": "2024-08-09T03:15:38.896547Z"
    }
   },
   "id": "6c7b742e478d9e6d",
   "execution_count": 13
  },
  {
   "cell_type": "code",
   "outputs": [
    {
     "data": {
      "text/plain": "CompletionMessage(content='1+1=2。', role='assistant', tool_calls=None)"
     },
     "execution_count": 14,
     "metadata": {},
     "output_type": "execute_result"
    }
   ],
   "source": [
    "response"
   ],
   "metadata": {
    "collapsed": false,
    "ExecuteTime": {
     "end_time": "2024-08-09T03:15:43.721730Z",
     "start_time": "2024-08-09T03:15:43.716618Z"
    }
   },
   "id": "b4944352daca55db",
   "execution_count": 14
  },
  {
   "cell_type": "code",
   "outputs": [
    {
     "data": {
      "text/plain": "'1+1=2。'"
     },
     "execution_count": 15,
     "metadata": {},
     "output_type": "execute_result"
    }
   ],
   "source": [
    "response.content"
   ],
   "metadata": {
    "collapsed": false,
    "ExecuteTime": {
     "end_time": "2024-08-09T03:15:50.365423Z",
     "start_time": "2024-08-09T03:15:50.346566Z"
    }
   },
   "id": "299906d63477d5e",
   "execution_count": 15
  },
  {
   "cell_type": "code",
   "outputs": [],
   "source": [
    "message = 'life is a struggle'"
   ],
   "metadata": {
    "collapsed": false,
    "ExecuteTime": {
     "end_time": "2024-08-09T03:26:53.409285Z",
     "start_time": "2024-08-09T03:26:53.394683Z"
    }
   },
   "id": "d659f6043ef4e0ce",
   "execution_count": 16
  },
  {
   "cell_type": "code",
   "outputs": [],
   "source": [
    "language = '中文'"
   ],
   "metadata": {
    "collapsed": false,
    "ExecuteTime": {
     "end_time": "2024-08-09T03:27:38.741568Z",
     "start_time": "2024-08-09T03:27:38.736761Z"
    }
   },
   "id": "a880ce20bb09fcc5",
   "execution_count": 17
  },
  {
   "cell_type": "code",
   "outputs": [],
   "source": [
    "prompt = f\"\"\" translate the text to {language}. text: {message}\"\"\""
   ],
   "metadata": {
    "collapsed": false,
    "ExecuteTime": {
     "end_time": "2024-08-09T03:28:47.113788Z",
     "start_time": "2024-08-09T03:28:47.110492Z"
    }
   },
   "id": "c65a1e3ba58e302a",
   "execution_count": 18
  },
  {
   "cell_type": "code",
   "outputs": [],
   "source": [
    "response = zhipu.synchronous_chat([\n",
    "    {\n",
    "        \"role\": \"user\",\n",
    "        \"content\": prompt\n",
    "    }\n",
    "])"
   ],
   "metadata": {
    "collapsed": false,
    "ExecuteTime": {
     "end_time": "2024-08-09T03:29:23.468044Z",
     "start_time": "2024-08-09T03:29:22.387181Z"
    }
   },
   "id": "6a610a450a22749f",
   "execution_count": 19
  },
  {
   "cell_type": "code",
   "outputs": [
    {
     "data": {
      "text/plain": "'生活就是斗争。'"
     },
     "execution_count": 20,
     "metadata": {},
     "output_type": "execute_result"
    }
   ],
   "source": [
    "response.content"
   ],
   "metadata": {
    "collapsed": false,
    "ExecuteTime": {
     "end_time": "2024-08-09T03:29:29.079064Z",
     "start_time": "2024-08-09T03:29:29.067349Z"
    }
   },
   "id": "c2e20a65ae04f7ff",
   "execution_count": 20
  },
  {
   "cell_type": "code",
   "outputs": [],
   "source": [],
   "metadata": {
    "collapsed": false,
    "ExecuteTime": {
     "end_time": "2024-08-09T03:36:59.573836Z",
     "start_time": "2024-08-09T03:36:58.841436Z"
    }
   },
   "id": "53ee18c61389fef",
   "execution_count": 22
  },
  {
   "cell_type": "code",
   "outputs": [],
   "source": [
    "from langchain_openai import ChatOpenAI\n",
    "from langchain.prompts import (\n",
    "    ChatPromptTemplate,\n",
    "    MessagesPlaceholder,\n",
    "    SystemMessagePromptTemplate,\n",
    "    HumanMessagePromptTemplate,\n",
    ")\n",
    "from langchain.chains import LLMChain\n",
    "from langchain.memory import ConversationBufferMemory"
   ],
   "metadata": {
    "collapsed": false,
    "ExecuteTime": {
     "end_time": "2024-08-09T03:40:06.543653Z",
     "start_time": "2024-08-09T03:40:06.526727Z"
    }
   },
   "id": "c2ad62efbc73b114",
   "execution_count": 25
  },
  {
   "cell_type": "code",
   "outputs": [],
   "source": [
    "from app.config.config import settings\n",
    "\n",
    "llm = ChatOpenAI(\n",
    "    temperature=0.95,\n",
    "    model=\"glm-4\",\n",
    "    openai_api_key=settings.zhipu_api_key,\n",
    "    openai_api_base=\"https://open.bigmodel.cn/api/paas/v4/\"\n",
    ")"
   ],
   "metadata": {
    "collapsed": false,
    "ExecuteTime": {
     "end_time": "2024-08-09T03:46:34.744086Z",
     "start_time": "2024-08-09T03:46:34.599734Z"
    }
   },
   "id": "3ca63e5516384723",
   "execution_count": 30
  },
  {
   "cell_type": "code",
   "outputs": [
    {
     "name": "stdout",
     "output_type": "stream",
     "text": [
      "\n",
      "\n",
      "\u001B[1m> Entering new LLMChain chain...\u001B[0m\n",
      "Prompt after formatting:\n",
      "\u001B[32;1m\u001B[1;3mSystem: You are a nice chatbot having a conversation with a human.\n",
      "Human: tell me a joke\u001B[0m\n",
      "\n",
      "\u001B[1m> Finished chain.\u001B[0m\n"
     ]
    },
    {
     "data": {
      "text/plain": "{'question': 'tell me a joke',\n 'chat_history': [HumanMessage(content='tell me a joke'),\n  AIMessage(content=\"Sure, here's a light-hearted joke for you:\\n\\nWhy don't scientists trust atoms?\\n\\nBecause they make up everything! 🎉\")],\n 'text': \"Sure, here's a light-hearted joke for you:\\n\\nWhy don't scientists trust atoms?\\n\\nBecause they make up everything! 🎉\"}"
     },
     "execution_count": 31,
     "metadata": {},
     "output_type": "execute_result"
    }
   ],
   "source": [
    "prompt = ChatPromptTemplate(\n",
    "messages=[\n",
    "    SystemMessagePromptTemplate.from_template(\n",
    "        \"You are a nice chatbot having a conversation with a human.\"\n",
    "    ),\n",
    "    MessagesPlaceholder(variable_name=\"chat_history\"),\n",
    "    HumanMessagePromptTemplate.from_template(\"{question}\")\n",
    "]\n",
    ")\n",
    "\n",
    "memory = ConversationBufferMemory(memory_key=\"chat_history\", return_messages=True)\n",
    "conversation = LLMChain(\n",
    "    llm=llm,\n",
    "    prompt=prompt,\n",
    "    verbose=True,\n",
    "    memory=memory\n",
    ")\n",
    "conversation.invoke({\"question\": \"tell me a joke\"})"
   ],
   "metadata": {
    "collapsed": false,
    "ExecuteTime": {
     "end_time": "2024-08-09T03:46:37.689679Z",
     "start_time": "2024-08-09T03:46:36.176171Z"
    }
   },
   "id": "875a89928ccdc4e1",
   "execution_count": 31
  },
  {
   "cell_type": "code",
   "outputs": [],
   "source": [
    "from zhipuai import ZhipuAI\n",
    "from app.config.config import settings\n",
    "  \n",
    "client = ZhipuAI(api_key=settings.zhipu_api_key) \n",
    "response = client.embeddings.create(\n",
    "    model=\"embedding-2\", #填写需要调用的模型编码\n",
    "    input=[\"你好\"],\n",
    ")\n",
    "response"
   ],
   "metadata": {
    "collapsed": false
   },
   "id": "2f6131d08a725d72",
   "execution_count": null
  },
  {
   "cell_type": "code",
   "outputs": [],
   "source": [],
   "metadata": {
    "collapsed": false
   },
   "id": "c9e86408ba99723f",
   "execution_count": null
  },
  {
   "cell_type": "code",
   "outputs": [],
   "source": [],
   "metadata": {
    "collapsed": false
   },
   "id": "1e07b6ae366d52d6"
  }
 ],
 "metadata": {
  "kernelspec": {
   "display_name": "Python 3",
   "language": "python",
   "name": "python3"
  },
  "language_info": {
   "codemirror_mode": {
    "name": "ipython",
    "version": 2
   },
   "file_extension": ".py",
   "mimetype": "text/x-python",
   "name": "python",
   "nbconvert_exporter": "python",
   "pygments_lexer": "ipython2",
   "version": "2.7.6"
  }
 },
 "nbformat": 4,
 "nbformat_minor": 5
}
