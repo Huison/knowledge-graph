{
 "cells": [
  {
   "cell_type": "code",
   "execution_count": 17,
   "id": "initial_id",
   "metadata": {
    "collapsed": true,
    "ExecuteTime": {
     "end_time": "2024-08-14T01:53:10.150545Z",
     "start_time": "2024-08-14T01:53:10.146448Z"
    }
   },
   "outputs": [],
   "source": [
    "from app.llm_api.zhipu_api import Zhipu"
   ]
  },
  {
   "cell_type": "code",
   "outputs": [],
   "source": [
    "zhipu = Zhipu()"
   ],
   "metadata": {
    "collapsed": false,
    "ExecuteTime": {
     "end_time": "2024-08-14T01:53:10.251296Z",
     "start_time": "2024-08-14T01:53:10.186213Z"
    }
   },
   "id": "8c10c8250952ed97",
   "execution_count": 18
  },
  {
   "cell_type": "code",
   "outputs": [],
   "source": [
    "response = zhipu.synchronous_chat([\n",
    "    {\n",
    "        \"role\": \"user\",\n",
    "        \"content\": \"1+1=?\"\n",
    "    }\n",
    "])"
   ],
   "metadata": {
    "collapsed": false,
    "ExecuteTime": {
     "end_time": "2024-08-14T01:53:11.175716Z",
     "start_time": "2024-08-14T01:53:10.271329Z"
    }
   },
   "id": "6c7b742e478d9e6d",
   "execution_count": 19
  },
  {
   "cell_type": "code",
   "outputs": [
    {
     "data": {
      "text/plain": "CompletionMessage(content='1+1=2。', role='assistant', tool_calls=None)"
     },
     "execution_count": 20,
     "metadata": {},
     "output_type": "execute_result"
    }
   ],
   "source": [
    "response"
   ],
   "metadata": {
    "collapsed": false,
    "ExecuteTime": {
     "end_time": "2024-08-14T01:53:11.192783Z",
     "start_time": "2024-08-14T01:53:11.181904Z"
    }
   },
   "id": "b4944352daca55db",
   "execution_count": 20
  },
  {
   "cell_type": "code",
   "outputs": [
    {
     "data": {
      "text/plain": "'1+1=2。'"
     },
     "execution_count": 21,
     "metadata": {},
     "output_type": "execute_result"
    }
   ],
   "source": [
    "response.content"
   ],
   "metadata": {
    "collapsed": false,
    "ExecuteTime": {
     "end_time": "2024-08-14T01:53:11.209141Z",
     "start_time": "2024-08-14T01:53:11.196591Z"
    }
   },
   "id": "299906d63477d5e",
   "execution_count": 21
  },
  {
   "cell_type": "code",
   "outputs": [],
   "source": [
    "\n",
    "from langchain.vectorstores import DocArrayInMemorySearch"
   ],
   "metadata": {
    "collapsed": false,
    "ExecuteTime": {
     "end_time": "2024-08-14T01:53:11.226506Z",
     "start_time": "2024-08-14T01:53:11.216683Z"
    }
   },
   "id": "ee005c9517c1732e",
   "execution_count": 22
  },
  {
   "cell_type": "code",
   "outputs": [],
   "source": [
    "from langchain.document_loaders import TextLoader"
   ],
   "metadata": {
    "collapsed": false,
    "ExecuteTime": {
     "end_time": "2024-08-14T01:53:11.238996Z",
     "start_time": "2024-08-14T01:53:11.231959Z"
    }
   },
   "id": "cf3eafc14b596b80",
   "execution_count": 23
  },
  {
   "cell_type": "code",
   "outputs": [],
   "source": [
    "# file = '悟空传.txt'\n",
    "# file = '狂人日记.txt'"
   ],
   "metadata": {
    "collapsed": false,
    "ExecuteTime": {
     "end_time": "2024-08-14T01:53:11.251006Z",
     "start_time": "2024-08-14T01:53:11.243077Z"
    }
   },
   "id": "73643c2addd82e37",
   "execution_count": 24
  },
  {
   "cell_type": "code",
   "outputs": [],
   "source": [
    "# files = ['悟空传.txt', '狂人日记.txt']\n",
    "# loaders = []\n",
    "# for file in files:\n",
    "#     loader = TextLoader(file_path=file)\n",
    "#     loaders.append(loader)"
   ],
   "metadata": {
    "collapsed": false,
    "ExecuteTime": {
     "end_time": "2024-08-14T01:53:11.261820Z",
     "start_time": "2024-08-14T01:53:11.255590Z"
    }
   },
   "id": "ea45d3fc7f5e79be",
   "execution_count": 25
  },
  {
   "cell_type": "code",
   "outputs": [],
   "source": [
    "files = ['悟空传.txt', '狂人日记.txt']\n",
    "documents = []\n",
    "for file in files:\n",
    "    loader = TextLoader(file_path=file)\n",
    "    docs = loader.load()\n",
    "    for doc in docs:\n",
    "        doc.metadata['source'] = file.split('.')[0]\n",
    "    documents.extend(docs)\n",
    "documents"
   ],
   "metadata": {
    "collapsed": false
   },
   "id": "f4f1b57183315907",
   "execution_count": null
  },
  {
   "cell_type": "code",
   "outputs": [],
   "source": [
    "# loader = TextLoader(file_path=file)"
   ],
   "metadata": {
    "collapsed": false,
    "ExecuteTime": {
     "end_time": "2024-08-14T01:53:11.285449Z",
     "start_time": "2024-08-14T01:53:11.280382Z"
    }
   },
   "id": "5d51ef65bf472c72",
   "execution_count": 27
  },
  {
   "cell_type": "code",
   "outputs": [],
   "source": [
    "from langchain.indexes import VectorstoreIndexCreator"
   ],
   "metadata": {
    "collapsed": false,
    "ExecuteTime": {
     "end_time": "2024-08-14T01:53:11.293720Z",
     "start_time": "2024-08-14T01:53:11.290051Z"
    }
   },
   "id": "eb3679c8299b6d8c",
   "execution_count": 28
  },
  {
   "cell_type": "code",
   "outputs": [],
   "source": [
    "from langchain_community.embeddings import ZhipuAIEmbeddings\n",
    "from app.config.config import settings\n",
    "\n",
    "embeddings = ZhipuAIEmbeddings(\n",
    "    model=\"embedding-2\",\n",
    "    api_key=settings.zhipu_api_key,\n",
    ")\n",
    "\n",
    "# index = VectorstoreIndexCreator(\n",
    "#     vectorstore_cls=DocArrayInMemorySearch, \n",
    "#     embedding=embeddings\n",
    "# ).from_loaders(loaders)\n",
    "\n",
    "index = VectorstoreIndexCreator(\n",
    "    vectorstore_cls=DocArrayInMemorySearch,\n",
    "    embedding=embeddings\n",
    ").from_documents(documents)"
   ],
   "metadata": {
    "collapsed": false,
    "ExecuteTime": {
     "end_time": "2024-08-14T01:53:12.132385Z",
     "start_time": "2024-08-14T01:53:11.295157Z"
    }
   },
   "id": "7c2da9b8b2344f52",
   "execution_count": 29
  },
  {
   "cell_type": "code",
   "outputs": [
    {
     "name": "stdout",
     "output_type": "stream",
     "text": [
      "{'source': '悟空传'}\n",
      "{'source': '狂人日记'}\n"
     ]
    }
   ],
   "source": [
    "# query = '孙悟空为什么不杀了那个妖怪？'\n",
    "# query = '历史是什么？'\n",
    "query = '总结一下'\n",
    "for doc in documents:\n",
    "    print(doc.metadata)"
   ],
   "metadata": {
    "collapsed": false,
    "ExecuteTime": {
     "end_time": "2024-08-14T01:53:12.135119Z",
     "start_time": "2024-08-14T01:53:12.133142Z"
    }
   },
   "id": "8f1e8a8522d39deb",
   "execution_count": 30
  },
  {
   "cell_type": "code",
   "outputs": [
    {
     "data": {
      "text/plain": "[Document(metadata={'source': '狂人日记'}, page_content='四\\n早上，我静坐了一会。陈老五送进饭来，一碗菜，一碗蒸鱼；这鱼的眼睛，白而且硬，张着嘴，同那一伙想吃人的人一样。吃了几筷，滑溜溜的不知是鱼是人，便把他兜肚连肠的吐出。\\n我说“老五，对大哥说，我闷得慌，想到园里走走。”老五不答应，走了，停一会，可就来开了门。\\n我也不动，研究他们如何摆布我；知道他们一定不肯放松。果然！我大哥引了一个老头子，慢慢走来；他满眼凶光，怕我看出，只是低头向着地，从眼镜横边暗暗看我。大哥说：“今天你仿佛很好。”我说：“是的。”大哥说：“今天请何先生来，给你诊一诊。”我说：“可以！”其实我岂不知道这老头子是刽子手扮的！无非借了看脉这名目，揣一揣肥瘠：因这功劳，也分一片肉吃。我也不怕；虽然不吃人，胆子却比他们还壮。伸出两个拳头，看他如何下手。老头子坐着，闭了眼睛，摸了好一会，呆了好一会；便张开他鬼眼睛说：“不要乱想。静静的养几天，就好了。”\\n不要乱想，静静的养！养肥了，他们是自然可以多吃；我有什么好处，怎么会“好了”？他们这群人，又想吃人，又是鬼鬼祟祟，想法子遮掩，不敢直捷下手，真要令我笑死，我忍不住，便放声大笑起来，十分快活。自己晓得这笑声里面，有的是义勇和正气。老头子和大哥，都失了色，被我这勇气正气镇压住了。\\n但是我有勇气，他们便越想吃我，沾光一点这勇气。老头子跨出门，走不多远，便低声对大哥说道：“赶紧吃罢！”大哥点点头。原来也有你！这一件大发见，虽似意外，也在意中：合伙吃我的人，便是我的\\n哥哥！\\n吃人的是我哥哥！\\n我是吃人的人的兄弟！\\n我自己被人吃了，可仍然是吃人的人的兄弟！\\n\\n五\\n这几天是退一步想：假使那老头子不是刽子手扮的，真是医生，也仍然是吃人的人。他们的祖师李时珍做的“本草什么”上，明明写着人肉可以煎吃；他还能说自己不吃人么？\\n至于我家大哥，也毫不冤枉他。他对我讲书的时候，亲口说过可以“易子而食”；又一回偶然议论起一个不好的人，他便说不但该杀，还当“食肉寝皮”。我那时年纪还小，心跳了好半天。前天狼子村佃户来说吃心肝的事，他也毫不奇怪，不住的点头。可见心思是同从前一样狠。既然可以“易子而食”，便什么都易得，什么人都吃得。我从前单听他讲道理，也胡涂过去；现在晓得他讲道理的时候，不但唇边还抹着人油，而且心里满装着吃人的意思。\\n\\n六\\n黑漆漆的，不知是日是夜。赵家的狗又叫起来了。\\n狮子似的凶心，兔子的怯弱，狐狸的狡猾，……'),\n Document(metadata={'source': '狂人日记'}, page_content='十\\n大清早，去寻我大哥；他立在堂门外看天，我便走到他背后，拦住门，格外沉静，格外和气的对他说：\\n“大哥，我有话告诉你。”\\n“你说就是。”他赶紧回过脸来，点点头。\\n“我只有几句话，可是说不出来。大哥，大约当初野蛮的人，都吃过一点人。后来因为心思不同，有的不吃人了，一味要好，便变了人，变了真的人。有的却还吃，——也同虫子一样，有的变了鱼、鸟、猴子，一直变到人。有的不要好，至今还是虫子。这吃人的人比不吃人的人，何等惭愧。怕比虫子的惭愧猴子，还差得很远很远。\\n“易牙蒸了他儿子，给桀纣吃，还是一直从前的事。谁晓得从盘古开辟天地以后，一直吃到易牙的儿子；从易牙的儿子，一直吃到徐锡林；从徐锡林，又一直吃到狼子村捉住的人。去年城里杀了犯人，还有一个生痨病的人，用馒头蘸血舐。\\n“他们要吃我，你一个人，原也无法可想；然而又何必去入伙。吃人的人，什么事做不出；他们会吃我，也会吃你，一伙里面，也会自吃。但只要转一步，只要立刻改了，也就人人太平。虽然从来如此，我们今天也可以格外要好，说是不能！大哥，我相信你能说，前天佃户要减租，你说过不能。”\\n当初，他还只是冷笑，随后眼光便凶狠起来，一到说破他们的隐情，那就满脸都变成青色了。大门外立着一伙人，赵贵翁和他的狗，也在里面，都探头探脑的挨进来。有的是看不出面貌，似乎用布蒙着；有的是仍旧青面獠牙，抿着嘴笑。我认识他们是一伙，都是吃人的人。可是也晓得他们心思很不一样，一种是以为从来如此，应该吃的；一种是知道不该吃，可是仍然要吃，又怕别人说破他，所以听了我的话，越发气愤不过，可是抿着嘴冷笑。\\n这时候，大哥也忽然显出凶相，高声喝道：\\n“都出去！疯子有什么好看！”\\n这时候，我又懂得一件他们的巧妙了。他们岂但不肯改，而且早已布置；预备下一个疯子的名目罩上我。将来吃了，不但太平无事，怕还会有人见情。佃户说的大家吃了一个恶人，正是这方法。这是他们的老谱！\\n陈老五也气愤愤的直走进来。如何按得住我的口，我偏要对这伙人说，\\n“你们可以改了，从真心改起！要晓得将来容不得吃人的人，活在世上。\\n“你们要不改，自己也会吃尽。即使生得多，也会给真的人除灭了，同猎人打完狼子一样！——同虫子一样！”\\n那一伙人，都被陈老五赶走了。大哥也不知那里去了。陈老五劝我回屋子里去。屋里面全是黑沉沉的。横梁和椽子都在头上发抖；抖了一会，就大起来，堆在我身上。'),\n Document(metadata={'source': '狂人日记'}, page_content='万分沉重，动弹不得；他的意思是要我死。我晓得他的沉重是假的，便挣扎出来，出了一身汗。可是偏要说，\\n“你们立刻改了，从真心改起！你们要晓得将来是容不得吃人的人，……”'),\n Document(metadata={'source': '狂人日记'}, page_content='三\\n晚上总是睡不着。凡事须得研究，才会明白。\\n他们——也有给知县打枷过的，也有给绅士掌过嘴的，也有衙役占了他妻子的，也有老子娘被债主逼死的；他们那时候的脸色，全没有昨天这么怕，也没有这么凶。\\n最奇怪的是昨天街上的那个女人，打他儿子，嘴里说道，“老子呀！我要咬你几口才出气！”他眼睛却看着我。我出了一惊，遮掩不住；那青面獠牙的一伙人，便都哄笑起来。陈老五赶上前，硬把我拖回家中了。\\n拖我回家，家里的人都装作不认识我；他们的眼色，也全同别人一样。进了书房，便反扣上门，宛然是关了一只鸡鸭。这一件事，越教我猜不出底细。\\n前几天，狼子村的佃户来告荒，对我大哥说，他们村里的一个大恶人，给大家打死了；几个人便挖出他的心肝来，用油煎炒了吃，可以壮壮胆子。我插了一句嘴，佃户和大哥便都看我几眼。今天才晓得他们的眼光，全同外面的那伙人一模一样。\\n想起来，我从顶上直冷到脚跟。\\n他们会吃人，就未必不会吃我。\\n你看那女人“咬你几口”的话，和一伙青面獠牙人的笑，和前天佃户的话，明明是暗号。我看出他话中全是毒，笑中全是刀，他们的牙齿，全是白厉厉的排着，这就是吃人的家伙。\\n照我自己想，虽然不是恶人，自从踹了古家的簿子，可就难说了。他们似乎别有心思，我全猜不出。况且他们一翻脸，便说人是恶人。我还记得大哥教我做论，无论怎样好人，翻他几句，他便打上几个圈；原谅坏人几句，他便说：“翻天妙手，与众不同”。我那里猜得到他们的心思，究竟怎样；况且是要吃的时候。\\n凡事总须研究，才会明白，古来时常吃人，我也还记得，可是不甚清楚。我翻开历史一查，这历史没有年代，歪歪斜斜的每页上都写着“仁义道德”几个字。我横竖睡不着，仔细看了半夜，才从字缝里看出字来，满本都写着两个字是“吃人”！\\n书上写着这许多字，佃户说了这许多话，却都笑吟吟的睁着怪眼睛\\n看我。\\n我也是人，他们想要吃我了！')]"
     },
     "execution_count": 31,
     "metadata": {},
     "output_type": "execute_result"
    }
   ],
   "source": [
    "# 创建检索器，应用文件名过滤器\n",
    "retriever = index.vectorstore.as_retriever(search_type=\"similarity\", search_kwargs={\"source\": \"悟空传\"})\n",
    "retriever.invoke(query, filter={\"source\": \"悟空传\"})\n"
   ],
   "metadata": {
    "collapsed": false,
    "ExecuteTime": {
     "end_time": "2024-08-14T01:53:12.407005Z",
     "start_time": "2024-08-14T01:53:12.135782Z"
    }
   },
   "id": "9ba81ee721f51303",
   "execution_count": 31
  },
  {
   "cell_type": "code",
   "outputs": [],
   "source": [
    "# from langchain_openai import ChatOpenAI\n",
    "# \n",
    "# llm = ChatOpenAI(\n",
    "#     temperature=0,\n",
    "#     model=\"glm-4\",\n",
    "#     openai_api_key=settings.zhipu_api_key,\n",
    "#     openai_api_base=\"https://open.bigmodel.cn/api/paas/v4/\"\n",
    "# )\n",
    "# # 创建 RetrievalQA chain\n",
    "# from langchain.chains import RetrievalQA\n",
    "# qa_chain = RetrievalQA.from_chain_type(llm, retriever=retriever)\n",
    "# response = qa_chain.run(query)\n",
    "# response\n",
    "# response = index.query(query, llm)\n",
    "# response = index.query(query, llm, filters={\"file_id\": '悟空传'})"
   ],
   "metadata": {
    "collapsed": false,
    "ExecuteTime": {
     "end_time": "2024-08-14T01:53:12.412120Z",
     "start_time": "2024-08-14T01:53:12.408815Z"
    }
   },
   "id": "9cf083948a9a4627",
   "execution_count": 32
  },
  {
   "cell_type": "code",
   "outputs": [],
   "source": [],
   "metadata": {
    "collapsed": false,
    "ExecuteTime": {
     "end_time": "2024-08-14T01:53:12.418046Z",
     "start_time": "2024-08-14T01:53:12.414309Z"
    }
   },
   "id": "3e01ef188a680ad9",
   "execution_count": 32
  },
  {
   "cell_type": "code",
   "outputs": [],
   "source": [],
   "metadata": {
    "collapsed": false,
    "ExecuteTime": {
     "end_time": "2024-08-14T01:53:12.427800Z",
     "start_time": "2024-08-14T01:53:12.421219Z"
    }
   },
   "id": "b9545cd5fa39b2b9",
   "execution_count": 32
  }
 ],
 "metadata": {
  "kernelspec": {
   "display_name": "Python 3",
   "language": "python",
   "name": "python3"
  },
  "language_info": {
   "codemirror_mode": {
    "name": "ipython",
    "version": 2
   },
   "file_extension": ".py",
   "mimetype": "text/x-python",
   "name": "python",
   "nbconvert_exporter": "python",
   "pygments_lexer": "ipython2",
   "version": "2.7.6"
  }
 },
 "nbformat": 4,
 "nbformat_minor": 5
}
