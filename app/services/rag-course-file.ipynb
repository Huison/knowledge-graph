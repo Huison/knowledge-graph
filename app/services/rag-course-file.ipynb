{
 "cells": [
  {
   "cell_type": "code",
   "execution_count": 1,
   "id": "initial_id",
   "metadata": {
    "collapsed": true,
    "ExecuteTime": {
     "end_time": "2024-08-13T02:53:05.742406Z",
     "start_time": "2024-08-13T02:53:05.554500Z"
    }
   },
   "outputs": [],
   "source": [
    "from app.llm_api.zhipu_api import Zhipu"
   ]
  },
  {
   "cell_type": "code",
   "outputs": [],
   "source": [
    "zhipu = Zhipu()"
   ],
   "metadata": {
    "collapsed": false,
    "ExecuteTime": {
     "end_time": "2024-08-13T02:53:05.758925Z",
     "start_time": "2024-08-13T02:53:05.743211Z"
    }
   },
   "id": "8c10c8250952ed97",
   "execution_count": 2
  },
  {
   "cell_type": "code",
   "outputs": [],
   "source": [
    "from langchain.vectorstores import DocArrayInMemorySearch"
   ],
   "metadata": {
    "collapsed": false,
    "ExecuteTime": {
     "end_time": "2024-08-13T02:53:05.929389Z",
     "start_time": "2024-08-13T02:53:05.759595Z"
    }
   },
   "id": "ee005c9517c1732e",
   "execution_count": 3
  },
  {
   "cell_type": "code",
   "outputs": [],
   "source": [],
   "metadata": {
    "collapsed": false,
    "ExecuteTime": {
     "end_time": "2024-08-13T02:53:05.932370Z",
     "start_time": "2024-08-13T02:53:05.930630Z"
    }
   },
   "id": "cf3eafc14b596b80",
   "execution_count": 3
  },
  {
   "cell_type": "code",
   "outputs": [],
   "source": [
    "from langchain_core.documents import Document\n",
    "\n",
    "documents = [\n",
    "    Document(\n",
    "        page_content=\"狗是很好的伴侣，以忠诚和友善著称。\",\n",
    "        metadata={\"source\": \"pets-doc\"},\n",
    "    ),\n",
    "    Document(\n",
    "        page_content=\"猫是独立的宠物，通常喜欢有自己的空间。\",\n",
    "        metadata={\"source\": \"mammal-pets-doc\"},\n",
    "    ),\n",
    "    Document(\n",
    "        page_content=\"金鱼是初学者喜爱的宠物，需要的护理相对简单。\",\n",
    "        metadata={\"source\": \"fish-pets-doc\"},\n",
    "    ),\n",
    "    Document(\n",
    "        page_content=\"鹦鹉是一种聪明的鸟类，能够模仿人类说话。\",\n",
    "        metadata={\"source\": \"bird-pets-doc\"},\n",
    "    ),\n",
    "    Document(\n",
    "        page_content=\"兔子是群居动物，需要足够的空间跳来跳去。\",\n",
    "        metadata={\"source\": \"mammal-pets-doc\"},\n",
    "    ),\n",
    "]"
   ],
   "metadata": {
    "collapsed": false,
    "ExecuteTime": {
     "end_time": "2024-08-13T02:53:05.936311Z",
     "start_time": "2024-08-13T02:53:05.933115Z"
    }
   },
   "id": "f4f1b57183315907",
   "execution_count": 4
  },
  {
   "cell_type": "code",
   "outputs": [],
   "source": [
    "from langchain.indexes import VectorstoreIndexCreator"
   ],
   "metadata": {
    "collapsed": false,
    "ExecuteTime": {
     "end_time": "2024-08-13T02:53:06.191802Z",
     "start_time": "2024-08-13T02:53:05.937981Z"
    }
   },
   "id": "eb3679c8299b6d8c",
   "execution_count": 5
  },
  {
   "cell_type": "code",
   "outputs": [],
   "source": [
    "from langchain_community.embeddings import ZhipuAIEmbeddings\n",
    "from app.config.config import settings\n",
    "\n",
    "embeddings = ZhipuAIEmbeddings(\n",
    "    model=\"embedding-2\",\n",
    "    api_key=settings.zhipu_api_key,\n",
    ")\n",
    "\n",
    "index = VectorstoreIndexCreator(\n",
    "    vectorstore_cls=DocArrayInMemorySearch,\n",
    "    embedding=embeddings\n",
    ").from_documents(documents)"
   ],
   "metadata": {
    "collapsed": false,
    "ExecuteTime": {
     "end_time": "2024-08-13T02:53:07.860603Z",
     "start_time": "2024-08-13T02:53:06.192541Z"
    }
   },
   "id": "7c2da9b8b2344f52",
   "execution_count": 6
  },
  {
   "cell_type": "code",
   "outputs": [
    {
     "ename": "TypeError",
     "evalue": "unhashable type: 'dict'",
     "output_type": "error",
     "traceback": [
      "\u001B[0;31m---------------------------------------------------------------------------\u001B[0m",
      "\u001B[0;31mTypeError\u001B[0m                                 Traceback (most recent call last)",
      "Cell \u001B[0;32mIn[7], line 1\u001B[0m\n\u001B[0;32m----> 1\u001B[0m all_results \u001B[38;5;241m=\u001B[39m index\u001B[38;5;241m.\u001B[39mvectorstore\u001B[38;5;241m.\u001B[39msearch(\n\u001B[1;32m      2\u001B[0m     query\u001B[38;5;241m=\u001B[39m\u001B[38;5;124m\"\u001B[39m\u001B[38;5;124m狗\u001B[39m\u001B[38;5;124m\"\u001B[39m,\n\u001B[1;32m      3\u001B[0m     search_type\u001B[38;5;241m=\u001B[39m\u001B[38;5;124m\"\u001B[39m\u001B[38;5;124msimilarity\u001B[39m\u001B[38;5;124m\"\u001B[39m,\n\u001B[1;32m      4\u001B[0m     metadata_filter\u001B[38;5;241m=\u001B[39m{\u001B[38;5;124m\"\u001B[39m\u001B[38;5;124msource\u001B[39m\u001B[38;5;124m\"\u001B[39m: \u001B[38;5;124m\"\u001B[39m\u001B[38;5;124mpets-doc\u001B[39m\u001B[38;5;124m\"\u001B[39m} \n\u001B[1;32m      5\u001B[0m )\n\u001B[1;32m      6\u001B[0m all_results\n",
      "File \u001B[0;32m/home/huison/anaconda3/envs/langchain/lib/python3.11/site-packages/langchain_community/vectorstores/docarray/in_memory.py:43\u001B[0m, in \u001B[0;36mDocArrayInMemorySearch.search\u001B[0;34m(self, query, search_type, **kwargs)\u001B[0m\n\u001B[1;32m     40\u001B[0m metadata_filter \u001B[38;5;241m=\u001B[39m kwargs\u001B[38;5;241m.\u001B[39mpop(\u001B[38;5;124m'\u001B[39m\u001B[38;5;124mmetadata_filter\u001B[39m\u001B[38;5;124m'\u001B[39m, \u001B[38;5;28;01mNone\u001B[39;00m)\n\u001B[1;32m     41\u001B[0m \u001B[38;5;28;01mif\u001B[39;00m metadata_filter:\n\u001B[1;32m     42\u001B[0m     \u001B[38;5;66;03m# 如果有过滤条件，使用辅助方法进行过滤\u001B[39;00m\n\u001B[0;32m---> 43\u001B[0m     filtered_documents \u001B[38;5;241m=\u001B[39m \u001B[38;5;28mself\u001B[39m\u001B[38;5;241m.\u001B[39mfilter_by_metadata(all_documents, metadata_filter)\n\u001B[1;32m     44\u001B[0m     \u001B[38;5;28;01mreturn\u001B[39;00m filtered_documents\n\u001B[1;32m     46\u001B[0m \u001B[38;5;66;03m# 如果没有过滤条件，返回所有文档\u001B[39;00m\n",
      "File \u001B[0;32m/home/huison/anaconda3/envs/langchain/lib/python3.11/site-packages/langchain_community/vectorstores/docarray/in_memory.py:33\u001B[0m, in \u001B[0;36mDocArrayInMemorySearch.filter_by_metadata\u001B[0;34m(self, documents, metadata_filter)\u001B[0m\n\u001B[1;32m     22\u001B[0m \u001B[38;5;28;01mdef\u001B[39;00m \u001B[38;5;21mfilter_by_metadata\u001B[39m(\u001B[38;5;28mself\u001B[39m, documents, metadata_filter):\n\u001B[1;32m     23\u001B[0m \u001B[38;5;250m    \u001B[39m\u001B[38;5;124;03m\"\"\"\u001B[39;00m\n\u001B[1;32m     24\u001B[0m \u001B[38;5;124;03m    过滤文档数组，只保留符合特定元数据条件的文档。\u001B[39;00m\n\u001B[1;32m     25\u001B[0m \n\u001B[0;32m   (...)\u001B[0m\n\u001B[1;32m     31\u001B[0m \u001B[38;5;124;03m        过滤后的Document对象列表。\u001B[39;00m\n\u001B[1;32m     32\u001B[0m \u001B[38;5;124;03m    \"\"\"\u001B[39;00m\n\u001B[0;32m---> 33\u001B[0m     \u001B[38;5;28;01mreturn\u001B[39;00m [doc \u001B[38;5;28;01mfor\u001B[39;00m doc \u001B[38;5;129;01min\u001B[39;00m documents \u001B[38;5;28;01mif\u001B[39;00m doc\u001B[38;5;241m.\u001B[39mmetadata\u001B[38;5;241m.\u001B[39mget(metadata_filter)]\n",
      "File \u001B[0;32m/home/huison/anaconda3/envs/langchain/lib/python3.11/site-packages/langchain_community/vectorstores/docarray/in_memory.py:33\u001B[0m, in \u001B[0;36m<listcomp>\u001B[0;34m(.0)\u001B[0m\n\u001B[1;32m     22\u001B[0m \u001B[38;5;28;01mdef\u001B[39;00m \u001B[38;5;21mfilter_by_metadata\u001B[39m(\u001B[38;5;28mself\u001B[39m, documents, metadata_filter):\n\u001B[1;32m     23\u001B[0m \u001B[38;5;250m    \u001B[39m\u001B[38;5;124;03m\"\"\"\u001B[39;00m\n\u001B[1;32m     24\u001B[0m \u001B[38;5;124;03m    过滤文档数组，只保留符合特定元数据条件的文档。\u001B[39;00m\n\u001B[1;32m     25\u001B[0m \n\u001B[0;32m   (...)\u001B[0m\n\u001B[1;32m     31\u001B[0m \u001B[38;5;124;03m        过滤后的Document对象列表。\u001B[39;00m\n\u001B[1;32m     32\u001B[0m \u001B[38;5;124;03m    \"\"\"\u001B[39;00m\n\u001B[0;32m---> 33\u001B[0m     \u001B[38;5;28;01mreturn\u001B[39;00m [doc \u001B[38;5;28;01mfor\u001B[39;00m doc \u001B[38;5;129;01min\u001B[39;00m documents \u001B[38;5;28;01mif\u001B[39;00m doc\u001B[38;5;241m.\u001B[39mmetadata\u001B[38;5;241m.\u001B[39mget(metadata_filter)]\n",
      "\u001B[0;31mTypeError\u001B[0m: unhashable type: 'dict'"
     ]
    }
   ],
   "source": [
    "all_results = index.vectorstore.search(\n",
    "    query=\"狗\",\n",
    "    search_type=\"similarity\",\n",
    "    metadata_filter={\"source\": \"pets-doc\"} \n",
    ")\n",
    "all_results"
   ],
   "metadata": {
    "collapsed": false,
    "ExecuteTime": {
     "end_time": "2024-08-13T02:53:08.507746Z",
     "start_time": "2024-08-13T02:53:07.862862Z"
    }
   },
   "id": "8f1e8a8522d39deb",
   "execution_count": 7
  },
  {
   "cell_type": "code",
   "outputs": [],
   "source": [
    "# 创建检索器，应用文件名过滤器\n",
    "# retriever = index.vectorstore.as_retriever(search_type=\"similarity\", search_kwargs={\"filter\": {\"file_id\": \"悟空传.txt\"}})\n"
   ],
   "metadata": {
    "collapsed": false,
    "ExecuteTime": {
     "end_time": "2024-08-13T02:53:08.508491Z",
     "start_time": "2024-08-13T02:53:08.508433Z"
    }
   },
   "id": "9ba81ee721f51303",
   "execution_count": null
  },
  {
   "cell_type": "code",
   "outputs": [],
   "source": [
    "# from langchain_openai import ChatOpenAI\n",
    "# \n",
    "# llm = ChatOpenAI(\n",
    "#     temperature=0,\n",
    "#     model=\"glm-4\",\n",
    "#     openai_api_key=settings.zhipu_api_key,\n",
    "#     openai_api_base=\"https://open.bigmodel.cn/api/paas/v4/\"\n",
    "# )\n",
    "# # 创建 RetrievalQA chain\n",
    "# from langchain.chains import RetrievalQA\n",
    "# qa_chain = RetrievalQA.from_chain_type(llm, retriever=retriever)\n",
    "# response = qa_chain.run(query)\n",
    "# response"
   ],
   "metadata": {
    "collapsed": false
   },
   "id": "9cf083948a9a4627",
   "execution_count": null
  }
 ],
 "metadata": {
  "kernelspec": {
   "display_name": "Python 3",
   "language": "python",
   "name": "python3"
  },
  "language_info": {
   "codemirror_mode": {
    "name": "ipython",
    "version": 2
   },
   "file_extension": ".py",
   "mimetype": "text/x-python",
   "name": "python",
   "nbconvert_exporter": "python",
   "pygments_lexer": "ipython2",
   "version": "2.7.6"
  }
 },
 "nbformat": 4,
 "nbformat_minor": 5
}
