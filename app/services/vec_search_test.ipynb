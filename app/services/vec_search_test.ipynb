{
 "cells": [
  {
   "cell_type": "code",
   "outputs": [],
   "source": [
    "import faiss\n",
    "from langchain_community.docstore.in_memory import InMemoryDocstore\n",
    "from langchain_community.embeddings import ZhipuAIEmbeddings\n",
    "from langchain_community.vectorstores import FAISS\n",
    "\n",
    "from app.config.config import settings\n",
    "\n",
    "embeddings = ZhipuAIEmbeddings(\n",
    "    model=\"embedding-2\",\n",
    "    api_key=settings.zhipu_api_key,\n",
    ")\n",
    "index = faiss.IndexFlatL2(len(embeddings.embed_query(\"hello world\")))\n",
    "vector_store = FAISS(\n",
    "    embedding_function=embeddings,\n",
    "    index=index,\n",
    "    docstore=InMemoryDocstore(),\n",
    "    index_to_docstore_id={},\n",
    ")"
   ],
   "metadata": {
    "collapsed": false
   },
   "id": "8b2c9a454d82b5e6",
   "execution_count": null
  },
  {
   "cell_type": "code",
   "outputs": [],
   "source": [
    "from typing import List\n",
    "from langchain_text_splitters import RecursiveCharacterTextSplitter\n",
    "from langchain_core.documents import Document\n",
    "from uuid import uuid4\n",
    "\n",
    "files = ['悟空传.txt', '狂人日记.txt']\n",
    "documents = []\n",
    "for file in files:\n",
    "    with open(file) as f:\n",
    "        text = f.read()\n",
    "    text_splitter = RecursiveCharacterTextSplitter(\n",
    "        chunk_size=1000,\n",
    "        chunk_overlap=20,\n",
    "        length_function=len,\n",
    "        is_separator_regex=False,\n",
    "    )\n",
    "    chunks: List[Document] = text_splitter.create_documents([text])\n",
    "    # Add metadata and collect documents\n",
    "    for chunk in chunks:\n",
    "        chunk.metadata['source'] = file.split('.')[0]\n",
    "        documents.append(chunk)\n",
    "\n",
    "uuids = [str(uuid4()) for _ in range(len(documents))]\n",
    "vector_store.add_documents(documents=documents, ids=uuids)"
   ],
   "metadata": {
    "collapsed": false
   },
   "id": "3892665cb57bcda4",
   "execution_count": null
  },
  {
   "cell_type": "code",
   "outputs": [],
   "source": [
    "vector_store.save_local(\"story\")"
   ],
   "metadata": {
    "collapsed": false
   },
   "id": "e9a7a61087107c84",
   "execution_count": null
  },
  {
   "cell_type": "code",
   "outputs": [],
   "source": [
    "new_vector_store = FAISS.load_local(\n",
    "    \"story\", embeddings, allow_dangerous_deserialization=True\n",
    ")"
   ],
   "metadata": {
    "collapsed": false
   },
   "id": "53276e273d7d62e3",
   "execution_count": null
  },
  {
   "cell_type": "code",
   "outputs": [],
   "source": [
    "results = vector_store.similarity_search(\n",
    "    \"孙悟空为什么不杀了那个妖怪？\"     \n",
    ")\n",
    "results"
   ],
   "metadata": {
    "collapsed": false
   },
   "id": "91b663f447e37eba",
   "execution_count": null
  },
  {
   "cell_type": "code",
   "outputs": [],
   "source": [
    "results = vector_store.similarity_search(\n",
    "    \"孙悟空为什么不杀了那个妖怪？\",\n",
    "    k=2,\n",
    "    filter={\"source\": \"悟空传\"},\n",
    ")\n",
    "results"
   ],
   "metadata": {
    "collapsed": false
   },
   "id": "81b8fb6f761c2618",
   "execution_count": null
  },
  {
   "cell_type": "code",
   "outputs": [],
   "source": [
    "from langchain_openai import ChatOpenAI\n",
    "\n",
    "llm = ChatOpenAI(\n",
    "    temperature=0,\n",
    "    model=\"glm-4\",\n",
    "    openai_api_key=settings.zhipu_api_key,\n",
    "    openai_api_base=\"https://open.bigmodel.cn/api/paas/v4/\"\n",
    ")"
   ],
   "metadata": {
    "collapsed": false
   },
   "id": "fe8c492a1710f12d",
   "execution_count": null
  },
  {
   "cell_type": "code",
   "outputs": [],
   "source": [
    "# 方式1\n",
    "qdocs = \"\".join([results[i].page_content for i in range(len(results))])\n",
    "qdocs\n",
    "response = llm.call_as_llm(f\"已知: {qdocs} 问题: 赵贵翁干什么了？列出引用的片段\")\n",
    "response"
   ],
   "metadata": {
    "collapsed": false
   },
   "id": "4ee04ad3f12b9529",
   "execution_count": null
  },
  {
   "cell_type": "code",
   "outputs": [],
   "source": [
    "# 方式2\n",
    "retriever = vector_store.as_retriever(\n",
    "    search_kwargs={\"k\": 2,\n",
    "                   \"filter\": {\"source\": \"狂人日记\"}},\n",
    ")\n",
    "\n",
    "from langchain.chains import RetrievalQA\n",
    "\n",
    "qa_chain = RetrievalQA.from_chain_type(llm, retriever=retriever, verbose=True)\n",
    "response = qa_chain.run(\"赵贵翁干什么了？列出引用的片段\")\n",
    "response"
   ],
   "metadata": {
    "collapsed": true
   },
   "id": "initial_id",
   "execution_count": null
  },
  {
   "cell_type": "code",
   "outputs": [],
   "source": [],
   "metadata": {
    "collapsed": false
   },
   "id": "5890fa4cb0544930",
   "execution_count": null
  }
 ],
 "metadata": {
  "kernelspec": {
   "display_name": "Python 3",
   "language": "python",
   "name": "python3"
  },
  "language_info": {
   "codemirror_mode": {
    "name": "ipython",
    "version": 2
   },
   "file_extension": ".py",
   "mimetype": "text/x-python",
   "name": "python",
   "nbconvert_exporter": "python",
   "pygments_lexer": "ipython2",
   "version": "2.7.6"
  }
 },
 "nbformat": 4,
 "nbformat_minor": 5
}
