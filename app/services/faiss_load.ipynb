{
 "cells": [
  {
   "cell_type": "code",
   "outputs": [],
   "source": [
    "from langchain_community.embeddings import ZhipuAIEmbeddings\n",
    "from langchain_community.vectorstores import FAISS\n",
    "\n",
    "from app.config.config import settings\n",
    "\n",
    "embeddings = ZhipuAIEmbeddings(\n",
    "    model=\"embedding-2\",\n",
    "    api_key=settings.zhipu_api_key,\n",
    ")\n",
    "\n",
    "vector_store = FAISS.load_local(\n",
    "    \"story\", embeddings, allow_dangerous_deserialization=True\n",
    ")"
   ],
   "metadata": {
    "collapsed": false,
    "ExecuteTime": {
     "end_time": "2024-08-15T09:25:56.539185Z",
     "start_time": "2024-08-15T09:25:56.400112Z"
    }
   },
   "id": "8b2c9a454d82b5e6",
   "execution_count": 5
  },
  {
   "cell_type": "code",
   "outputs": [],
   "source": [
    "results = vector_store.similarity_search_with_score(\n",
    "    \"孙悟空为什么不杀了那个妖怪？\",\n",
    "    k=2,\n",
    "    filter={\"source\": \"悟空传\"},\n",
    ")\n",
    "results"
   ],
   "metadata": {
    "collapsed": false
   },
   "id": "91b663f447e37eba",
   "execution_count": null
  },
  {
   "cell_type": "code",
   "outputs": [],
   "source": [],
   "metadata": {
    "collapsed": false
   },
   "id": "5890fa4cb0544930",
   "execution_count": null
  }
 ],
 "metadata": {
  "kernelspec": {
   "display_name": "Python 3",
   "language": "python",
   "name": "python3"
  },
  "language_info": {
   "codemirror_mode": {
    "name": "ipython",
    "version": 2
   },
   "file_extension": ".py",
   "mimetype": "text/x-python",
   "name": "python",
   "nbconvert_exporter": "python",
   "pygments_lexer": "ipython2",
   "version": "2.7.6"
  }
 },
 "nbformat": 4,
 "nbformat_minor": 5
}
